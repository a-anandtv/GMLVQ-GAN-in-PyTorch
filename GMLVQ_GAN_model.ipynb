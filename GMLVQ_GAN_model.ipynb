{
 "cells": [
  {
   "cell_type": "code",
   "execution_count": 1,
   "id": "12d1c0bd-1888-4116-b13d-b4d7c05277f7",
   "metadata": {
    "tags": []
   },
   "outputs": [
    {
     "name": "stderr",
     "output_type": "stream",
     "text": [
      "/Users/stalkr/miniconda3/envs/thesis-dev/lib/python3.7/site-packages/tqdm/auto.py:22: TqdmWarning: IProgress not found. Please update jupyter and ipywidgets. See https://ipywidgets.readthedocs.io/en/stable/user_install.html\n",
      "  from .autonotebook import tqdm as notebook_tqdm\n"
     ]
    },
    {
     "data": {
      "text/plain": [
       "<torch._C.Generator at 0x7ffe151a94d0>"
      ]
     },
     "execution_count": 1,
     "metadata": {},
     "output_type": "execute_result"
    }
   ],
   "source": [
    "# Import\n",
    "import torch\n",
    "from torch import nn\n",
    "from tqdm.auto import tqdm\n",
    "from torchvision import transforms\n",
    "from torchvision.datasets import MNIST # Training dataset\n",
    "from torchvision.utils import make_grid\n",
    "from torch.utils.data import DataLoader\n",
    "import matplotlib.pyplot as plt\n",
    "import torch.nn.functional as F\n",
    "import numpy\n",
    "torch.manual_seed(0)"
   ]
  },
  {
   "cell_type": "code",
   "execution_count": 2,
   "id": "bd2f9a3c-dd73-4486-ae88-38cc98acd90c",
   "metadata": {},
   "outputs": [],
   "source": [
    "from torch.optim.lr_scheduler import ExponentialLR\n",
    "import prototorch as pt\n",
    "from prototorch.models import GMLVQ"
   ]
  },
  {
   "cell_type": "code",
   "execution_count": 3,
   "id": "dba27242-e926-4f61-95b9-8576d6690314",
   "metadata": {
    "tags": []
   },
   "outputs": [],
   "source": [
    "def show_tensor_images(image_tensor, num_images=25, size=(1, 28, 28)):\n",
    "    '''\n",
    "    Function for visualizing images: Given a tensor of images, number of images, and\n",
    "    size per image, plots and prints the images in a uniform grid.\n",
    "    '''\n",
    "    image_unflat = image_tensor.detach().cpu().view(-1, *size)\n",
    "    image_grid = make_grid(image_unflat[:num_images], nrow=5)\n",
    "    plt.imshow(image_grid.permute(1, 2, 0).squeeze())\n",
    "    plt.show()"
   ]
  },
  {
   "cell_type": "code",
   "execution_count": 4,
   "id": "209daa0c-246b-4617-9fc3-8229fcf36ffa",
   "metadata": {
    "tags": []
   },
   "outputs": [],
   "source": [
    "def get_generator_block(input_dim, output_dim):\n",
    "    '''\n",
    "    Function for returning a block of the generator's neural network\n",
    "    given input and output dimensions.\n",
    "    Parameters:\n",
    "        input_dim: the dimension of the input vector, a scalar\n",
    "        output_dim: the dimension of the output vector, a scalar\n",
    "    Returns:\n",
    "        a generator neural network layer, with a linear transformation \n",
    "          followed by a batch normalization and then a relu activation\n",
    "    '''\n",
    "    return nn.Sequential(\n",
    "        \n",
    "        # https://pytorch.org/docs/stable/nn.html for reference\n",
    "        nn.Linear(input_dim, output_dim),\n",
    "        nn.BatchNorm1d(output_dim),\n",
    "        nn.ReLU(inplace=True)\n",
    "    )"
   ]
  },
  {
   "cell_type": "code",
   "execution_count": 5,
   "id": "f9372636-59b3-4ba1-9eaa-0373b902d3d7",
   "metadata": {
    "tags": []
   },
   "outputs": [],
   "source": [
    "class Generator(nn.Module):\n",
    "    '''\n",
    "    Generator Class\n",
    "    Values:\n",
    "        z_dim: the dimension of the noise vector, a scalar\n",
    "        im_dim: the dimension of the images, fitted for the dataset used, a scalar\n",
    "          (MNIST images are 28 x 28 = 784 so that is your default)\n",
    "        hidden_dim: the inner dimension, a scalar\n",
    "    '''\n",
    "    def __init__(self, z_dim=10, im_dim=784, hidden_dim=128):\n",
    "        super(Generator, self).__init__()\n",
    "        # Build the neural network\n",
    "        self.gen = nn.Sequential(\n",
    "            get_generator_block(z_dim, hidden_dim),\n",
    "            get_generator_block(hidden_dim, hidden_dim * 2),\n",
    "            get_generator_block(hidden_dim * 2, hidden_dim * 4),\n",
    "            get_generator_block(hidden_dim * 4, hidden_dim * 8),\n",
    "            nn.Linear(hidden_dim * 8, im_dim),\n",
    "            nn.Sigmoid()\n",
    "        )\n",
    "\n",
    "    def forward(self, noise):\n",
    "        '''\n",
    "        Function for completing a forward pass of the generator: Given a noise tensor, \n",
    "        returns generated images.\n",
    "        Parameters:\n",
    "            noise: a noise tensor with dimensions (n_samples, z_dim)\n",
    "        '''\n",
    "        return self.gen(noise)"
   ]
  },
  {
   "cell_type": "code",
   "execution_count": 6,
   "id": "a59d5988-5817-4111-96c1-4a33f2f21f98",
   "metadata": {
    "tags": []
   },
   "outputs": [],
   "source": [
    "def get_noise(n_samples, z_dim, device='cpu'):\n",
    "    '''\n",
    "    Function for creating noise vectors: Given the dimensions (n_samples, z_dim),\n",
    "    creates a tensor of that shape filled with random numbers from the normal distribution.\n",
    "    Parameters:\n",
    "        n_samples: the number of samples to generate, a scalar\n",
    "        z_dim: the dimension of the noise vector, a scalar\n",
    "        device: the device type\n",
    "    '''\n",
    "    return torch.randn(n_samples, z_dim, device=device)\n",
    "\n"
   ]
  },
  {
   "cell_type": "code",
   "execution_count": 7,
   "id": "a15195fd-548c-4f79-b2b3-99b1743d31c8",
   "metadata": {
    "tags": []
   },
   "outputs": [],
   "source": [
    "def get_discriminator_block(input_dim, output_dim):\n",
    "    '''\n",
    "    Discriminator Block\n",
    "    Function for returning a neural network of the discriminator given input and output dimensions.\n",
    "    Parameters:\n",
    "        input_dim: the dimension of the input vector, a scalar\n",
    "        output_dim: the dimension of the output vector, a scalar\n",
    "    Returns:\n",
    "        a discriminator neural network layer, with a linear transformation \n",
    "          followed by an nn.LeakyReLU activation with negative slope of 0.2 \n",
    "    '''\n",
    "    return nn.Sequential(\n",
    "        nn.Linear(input_dim, output_dim),\n",
    "        nn.LeakyReLU(negative_slope=0.2)\n",
    "    )"
   ]
  },
  {
   "cell_type": "code",
   "execution_count": 33,
   "id": "524cf39a-f8b6-45fb-bb15-39329aad43e5",
   "metadata": {
    "tags": []
   },
   "outputs": [],
   "source": [
    "class Discriminator(nn.Module):\n",
    "    '''\n",
    "    Discriminator Class\n",
    "    Values:\n",
    "        im_dim: the dimension of the images, fitted for the dataset used, a scalar\n",
    "            (MNIST images are 28x28 = 784 so that is your default)\n",
    "        hidden_dim: the inner dimension, a scalar\n",
    "    '''\n",
    "    def __init__(self, train_data, im_dim=784, hidden_dim=128, num_classes=10, per_class=3):\n",
    "        super(Discriminator, self).__init__()\n",
    "        \n",
    "        # Hyperparameters for the gmlvq layer\n",
    "        self.hparams = dict(\n",
    "            input_dim=im_dim,\n",
    "            latent_dim=im_dim,\n",
    "            distribution={\n",
    "                \"num_classes\": 10,\n",
    "                \"per_class\": 3\n",
    "            },\n",
    "            proto_lr=0.01,\n",
    "            bb_lr=0.01,\n",
    "        )\n",
    "        self.example_input_array = torch.zeros(im_dim, im_dim)\n",
    "        \n",
    "        self.disc = nn.Sequential(\n",
    "            # get_discriminator_block(im_dim, hidden_dim * 4),\n",
    "            # get_discriminator_block(hidden_dim * 4, im_dim),\n",
    "            GMLVQ(\n",
    "                self.hparams,\n",
    "                optimizer=torch.optim.Adam,\n",
    "                prototypes_initializer=pt.initializers.SMCI(train_data),\n",
    "                lr_scheduler=ExponentialLR,\n",
    "                lr_scheduler_kwargs=dict(gamma=0.99, verbose=False),\n",
    "            ),\n",
    "            nn.LeakyReLU(negative_slope=0.2)\n",
    "        )\n",
    "        print(\"generated prototypes: \", self.disc[0].prototypes.shape)\n",
    "        print(\"generated prototype labels:\", self.disc[0].prototype_labels)\n",
    "        self.disc[0].add_prototypes({\n",
    "                \"num_classes\": 1,\n",
    "                \"per_class\": 3\n",
    "            },\n",
    "            pt.initializers.UCI((1,im_dim)),)\n",
    "        print(\"generated prototypes: \", self.disc[0].prototypes.shape)\n",
    "        print(\"generated prototype labels:\", self.disc[0].prototype_labels)\n",
    "\n",
    "    def forward(self, image):\n",
    "        '''\n",
    "        Function for completing a forward pass of the discriminator: Given an image tensor, \n",
    "        returns a 1-dimension tensor representing fake/real.\n",
    "        Parameters:\n",
    "            image: a flattened image tensor with dimension (im_dim)\n",
    "        '''\n",
    "        return self.disc(image)"
   ]
  },
  {
   "cell_type": "code",
   "execution_count": 34,
   "id": "b99f0c1f-065f-452b-bdd4-7ca6c452b5f8",
   "metadata": {
    "tags": []
   },
   "outputs": [],
   "source": [
    "def get_disc_loss(gen, disc, criterion, real, labels, num_images, z_dim, device):\n",
    "    '''\n",
    "    Return the loss of the discriminator given inputs.\n",
    "    Parameters:\n",
    "        gen: the generator model, which returns an image given z-dimensional noise\n",
    "        disc: the discriminator model, which returns a single-dimensional prediction of real/fake\n",
    "        criterion: the loss function, which should be used to compare \n",
    "               the discriminator's predictions to the ground truth reality of the images \n",
    "               (e.g. fake = 0, real = 1)\n",
    "        real: a batch of real images\n",
    "        labels: class labels for the current batch of real images\n",
    "        num_images: the number of images the generator should produce, \n",
    "                which is also the length of the real images\n",
    "        z_dim: the dimension of the noise vector, a scalar\n",
    "        device: the device type\n",
    "    Returns:\n",
    "        disc_loss: a torch scalar loss value for the current batch\n",
    "    '''\n",
    "    noise_vectors = get_noise(num_images, z_dim, device)\n",
    "    gen_images = gen(noise_vectors).detach()\n",
    "    # print(\"gen images shape:\", gen_images.shape)\n",
    "    gen_predictions = disc(gen_images)\n",
    "    # initializers for ground truths\n",
    "    ones = torch.ones(num_images,1).float()\n",
    "    zeros = torch.zeros(num_images,1).float()\n",
    "    # generating ground truth\n",
    "    gen_ground_truth = torch.cat([ones,zeros],1) #torch.zeros_like(gen_predictions)\n",
    "    # print(\"gen truth shape:\", gen_ground_truth.shape)\n",
    "    gen_loss = criterion(gen_predictions, gen_ground_truth)\n",
    "    real_predictions = disc(real)\n",
    "    # print(\"disc output shape:\", real_predictions.shape)\n",
    "    # generating ground truth\n",
    "    real_ground_truth = torch.cat([zeros,ones],1) #torch.ones_like(real_predictions) #F.one_hot(labels, num_classes=10).float()\n",
    "                            # Testing with one-hot vectors as output from the GMLVQ layer is going to be class assignments\n",
    "    # print(\"disc truth shape:\", real_ground_truth.shape)\n",
    "    real_loss = criterion(real_predictions, real_ground_truth)\n",
    "    disc_loss = torch.mean(torch.stack((gen_loss, real_loss)))\n",
    "    return disc_loss"
   ]
  },
  {
   "cell_type": "code",
   "execution_count": 35,
   "id": "3d6809f8-23e2-4d86-b665-f0f2a6c1080c",
   "metadata": {
    "tags": []
   },
   "outputs": [],
   "source": [
    "def get_gen_loss(gen, disc, criterion, num_images, z_dim, device):\n",
    "    '''\n",
    "    Return the loss of the generator given inputs.\n",
    "    Parameters:\n",
    "        gen: the generator model, which returns an image given z-dimensional noise\n",
    "        disc: the discriminator model, which returns a single-dimensional prediction of real/fake\n",
    "        criterion: the loss function, which should be used to compare \n",
    "               the discriminator's predictions to the ground truth reality of the images \n",
    "               (e.g. fake = 0, real = 1)\n",
    "        num_images: the number of images the generator should produce, \n",
    "                which is also the length of the real images\n",
    "        z_dim: the dimension of the noise vector, a scalar\n",
    "        device: the device type\n",
    "    Returns:\n",
    "        gen_loss: a torch scalar loss value for the current batch\n",
    "    '''\n",
    "    noise_vectors = get_noise(num_images, z_dim, device)\n",
    "    gen_images = gen(noise_vectors)\n",
    "    predictions = disc(gen_images)\n",
    "    # initializers for ground truths\n",
    "    ones = torch.ones(num_images,1).float()\n",
    "    zeros = torch.zeros(num_images,1).float()\n",
    "    # generating ground truth\n",
    "    gen_loss = criterion(predictions, torch.cat([zeros,ones],1))\n",
    "    return gen_loss"
   ]
  },
  {
   "cell_type": "code",
   "execution_count": 36,
   "id": "6e1b0a62-47a6-4d42-b24e-1eccf860c45c",
   "metadata": {
    "tags": []
   },
   "outputs": [],
   "source": [
    "# Setting parameters\n",
    "criterion = nn.BCEWithLogitsLoss()\n",
    "n_epochs = 10\n",
    "z_dim = 64\n",
    "display_step = 500\n",
    "batch_size = 128\n",
    "lr = 0.00001"
   ]
  },
  {
   "cell_type": "code",
   "execution_count": 37,
   "id": "793f2e09-d627-4f35-bd8d-9d17f0a5baae",
   "metadata": {
    "tags": []
   },
   "outputs": [],
   "source": [
    "# Transformations for the dataset\n",
    "transform = transforms.Compose([\n",
    "    transforms.ToTensor(),\n",
    "    # transforms.Normalize((0.5,), (0.5,)),\n",
    "    transforms.Lambda(lambda x : x.view(x.shape[0], -1)), # Flatten the batch of real images from the dataset\n",
    "])\n",
    "\n",
    "# Dataset\n",
    "train_ds = MNIST('.', download=False, transform=transform) \n",
    "\n",
    "# Load MNIST dataset as tensors\n",
    "dataloader = DataLoader(\n",
    "    train_ds,\n",
    "    batch_size=batch_size,\n",
    "    shuffle=True)"
   ]
  },
  {
   "cell_type": "code",
   "execution_count": 16,
   "id": "64b5e4a2-5c35-46d8-bf2d-8e9b508aa8e7",
   "metadata": {},
   "outputs": [],
   "source": [
    "# Adding samples for the fake class\n",
    "rsample = torch.randint(0,256,(30,28,28))\n",
    "train_ds.data = torch.from_numpy(numpy.r_[train_ds.data, rsample])\n",
    "train_ds.targets = torch.from_numpy(numpy.r_[train_ds.targets, torch.tensor([10 for i in range(30)])])"
   ]
  },
  {
   "cell_type": "code",
   "execution_count": 38,
   "id": "f6215fd2-6ce0-4906-863e-a39ef8d3841b",
   "metadata": {
    "tags": []
   },
   "outputs": [],
   "source": [
    "### Setting to CPU ###\n",
    "device = 'cpu'"
   ]
  },
  {
   "cell_type": "code",
   "execution_count": null,
   "id": "87de9461-af4e-4970-9a6e-1f13ba02f0d6",
   "metadata": {
    "tags": []
   },
   "outputs": [],
   "source": [
    "# Initialize the generator and discriminator\n",
    "gen = Generator(z_dim).to(device)\n",
    "gen_opt = torch.optim.Adam(gen.parameters(), lr=lr)\n",
    "disc = Discriminator(train_data=train_ds).to(device) \n",
    "disc_opt = torch.optim.Adam(disc.parameters(), lr=lr)"
   ]
  },
  {
   "cell_type": "code",
   "execution_count": null,
   "id": "556b8174-85fb-4c8b-895c-43693b691301",
   "metadata": {
    "tags": []
   },
   "outputs": [],
   "source": [
    "# Training the GAN\n",
    "cur_step = 0\n",
    "mean_generator_loss = 0\n",
    "mean_discriminator_loss = 0\n",
    "test_generator = True # Whether the generator should be tested\n",
    "gen_loss = False\n",
    "error = False"
   ]
  },
  {
   "cell_type": "code",
   "execution_count": null,
   "id": "ce651962-d205-4897-8a14-204450cb2ac6",
   "metadata": {
    "tags": []
   },
   "outputs": [],
   "source": [
    "for epoch in range(n_epochs):\n",
    "  \n",
    "    # Dataloader returns the batches\n",
    "    for real, ylabels in tqdm(dataloader):\n",
    "        cur_batch_size = len(real)\n",
    "\n",
    "        # Flatten the batch of real images from the dataset\n",
    "        # real = real.view(cur_batch_size, -1).to(device)\n",
    "\n",
    "        ### Update discriminator ###\n",
    "        #### \n",
    "        # Zero out the gradients before backpropagation\n",
    "        disc_opt.zero_grad()\n",
    "\n",
    "        # Calculate discriminator loss\n",
    "        disc_loss = get_disc_loss(gen, disc, criterion, real, ylabels, cur_batch_size, z_dim, device)\n",
    "\n",
    "        # Update gradients\n",
    "        disc_loss.backward(retain_graph=True)\n",
    "\n",
    "        # Update optimizer\n",
    "        disc_opt.step()\n",
    "        #### \n",
    "        \n",
    "\n",
    "        # For testing purposes, to keep track of the generator weights\n",
    "        if test_generator:\n",
    "            old_generator_weights = gen.gen[0][0].weight.detach().clone()\n",
    "\n",
    "        ### Update generator ###\n",
    "        #### \n",
    "        gen_opt.zero_grad()\n",
    "        gen_loss = get_gen_loss(gen, disc, criterion, cur_batch_size, z_dim, device)\n",
    "        gen_loss.backward(retain_graph=True)\n",
    "        gen_opt.step()\n",
    "        #### \n",
    "\n",
    "        # Keep track of the average discriminator loss\n",
    "        mean_discriminator_loss += disc_loss.item() / display_step\n",
    "\n",
    "        # Keep track of the average generator loss\n",
    "        mean_generator_loss += gen_loss.item() / display_step\n",
    "\n",
    "        ### Visualization code ###\n",
    "        if cur_step % display_step == 0 and cur_step > 0:\n",
    "            print(f\"Step {cur_step}: Generator loss: {mean_generator_loss}, discriminator loss: {mean_discriminator_loss}\")\n",
    "            fake_noise = get_noise(cur_batch_size, z_dim, device=device)\n",
    "            fake = gen(fake_noise)\n",
    "            show_tensor_images(fake, num_images=64)\n",
    "            show_tensor_images(real, num_images=64)\n",
    "            mean_generator_loss = 0\n",
    "            mean_discriminator_loss = 0\n",
    "        cur_step += 1"
   ]
  }
 ],
 "metadata": {
  "kernelspec": {
   "display_name": "Python 3",
   "language": "python",
   "name": "python3"
  },
  "language_info": {
   "codemirror_mode": {
    "name": "ipython",
    "version": 3
   },
   "file_extension": ".py",
   "mimetype": "text/x-python",
   "name": "python",
   "nbconvert_exporter": "python",
   "pygments_lexer": "ipython3",
   "version": "3.7.10"
  }
 },
 "nbformat": 4,
 "nbformat_minor": 5
}
